{
 "cells": [
  {
   "cell_type": "markdown",
   "id": "a44ecda0",
   "metadata": {},
   "source": [
    "# Regularized Logistic Reggression from scratch"
   ]
  },
  {
   "cell_type": "markdown",
   "id": "98927311",
   "metadata": {},
   "source": [
    "## Case Study - Whether microchips from a fabrication plant passes quality assurance (QA)"
   ]
  },
  {
   "cell_type": "markdown",
   "id": "a13ff3f1",
   "metadata": {},
   "source": [
    "###  Necessary imports"
   ]
  },
  {
   "cell_type": "code",
   "execution_count": 1,
   "id": "4719b96a",
   "metadata": {},
   "outputs": [],
   "source": [
    "import matplotlib.pyplot as plt\n",
    "import pandas as pd\n",
    "import numpy as np\n",
    "import scipy.optimize as opt"
   ]
  },
  {
   "cell_type": "markdown",
   "id": "686a66e9",
   "metadata": {},
   "source": [
    "### Load local data into the program"
   ]
  },
  {
   "cell_type": "code",
   "execution_count": 2,
   "id": "26a74d53",
   "metadata": {},
   "outputs": [],
   "source": [
    "def load_data(path):\n",
    "    data = pd.read_csv(path, header = None)\n",
    "    \n",
    "    return data\n",
    "\n",
    "data = load_data(\"data.txt\")"
   ]
  },
  {
   "cell_type": "markdown",
   "id": "a2abd323",
   "metadata": {},
   "source": [
    "### Data Pre-processing"
   ]
  },
  {
   "cell_type": "code",
   "execution_count": 3,
   "id": "a8005b99",
   "metadata": {},
   "outputs": [],
   "source": [
    "X = data.iloc[0:data.shape[0],0:2]\n",
    "\n",
    "m = X.shape[0]         # Training samples\n",
    "\n",
    "X_test = data.iloc[m:data.shape[0],0:2]\n",
    "X_test = np.c_[np.ones((data.shape[0]-m,1)), X_test]\n",
    "\n",
    "y = np.array(data.iloc[0:m,2]).reshape((m,1))\n",
    "y_test = np.array(data.iloc[m:data.shape[0],2]).reshape((data.shape[0]-m,1))\n",
    "\n",
    "X = np.c_[np.ones((m,1)), X]\n",
    "theta = np.array(np.zeros((X.shape[1],1)))\n",
    "\n",
    "admitted = data.iloc[0:m,:].loc[ y == 1 ]                        \n",
    "admitted = np.array(admitted.iloc[:, 0:2])\n",
    "\n",
    "not_admitted = data.iloc[0:m,:].loc[ y == 0 ]\n",
    "not_admitted = np.array(not_admitted.iloc[:, 0:2])"
   ]
  },
  {
   "cell_type": "markdown",
   "id": "0d3b257f",
   "metadata": {},
   "source": [
    "### Feature Scaling - Normalization"
   ]
  },
  {
   "cell_type": "code",
   "execution_count": 4,
   "id": "840ac0a6",
   "metadata": {},
   "outputs": [],
   "source": [
    "_X = np.array(np.zeros((X.shape)))\n",
    "_admitted = np.array(np.zeros((admitted.shape)))\n",
    "_not_admitted = np.array(np.zeros((not_admitted.shape)))\n",
    "\n",
    "x1_avg = np.sum(X[:,1])/m\n",
    "x1_range = np.max(X[:,1]) - np.min(X[:,1])\n",
    "\n",
    "x2_avg = np.sum(X[:,2])/m\n",
    "x2_range = np.max(X[:,2]) - np.min(X[:,2])\n",
    "\n",
    "_X[:,1] = (X[:,1] - x1_avg)/x1_range\n",
    "_X[:,2] = (X[:,2] - x2_avg)/x2_range\n",
    "\n",
    "\n",
    "ad_x1_avg = np.sum(admitted[:,0])/m\n",
    "ad_x1_range = np.max(admitted[:,0]) - np.min(admitted[:,0])\n",
    "\n",
    "ad_x2_avg = np.sum(admitted[:,1])/m\n",
    "ad_x2_range = np.max(admitted[:,1]) - np.min(admitted[:,1])\n",
    "\n",
    "_admitted[:,0] = (admitted[:,0] - ad_x1_avg)/ad_x1_range\n",
    "_admitted[:,1] = (admitted[:,1]- ad_x2_avg)/ad_x2_range\n",
    "\n",
    "nad_x1_avg = np.sum(not_admitted[:,0])/m\n",
    "nad_x1_range = np.max(not_admitted[:,0]) - np.min(admitted[:,0])\n",
    "\n",
    "nad_x2_avg = np.sum(not_admitted[:,1])/m\n",
    "nad_x2_range = np.max(not_admitted[:,1]) - np.min(admitted[:,1])\n",
    "\n",
    "_not_admitted[:,0] = (not_admitted[:,0] - nad_x1_avg)/nad_x1_range\n",
    "_not_admitted[:,1] = (not_admitted[:,1]- nad_x2_avg)/nad_x2_range"
   ]
  },
  {
   "cell_type": "markdown",
   "id": "a59d6650",
   "metadata": {},
   "source": [
    "### Important Observation - Normalization mixes up samples\n",
    "### So we'll prefer using un-normalised data for more general sense for CLASSIFICATION "
   ]
  },
  {
   "cell_type": "code",
   "execution_count": 5,
   "id": "a6765c4c",
   "metadata": {},
   "outputs": [
    {
     "data": {
      "text/plain": [
       "<matplotlib.legend.Legend at 0x7f037a6f13c8>"
      ]
     },
     "execution_count": 5,
     "metadata": {},
     "output_type": "execute_result"
    },
    {
     "data": {
      "image/png": "[encoded data removed]",
      "text/plain": [
       "<Figure size 1008x360 with 2 Axes>"
      ]
     },
     "metadata": {
      "needs_background": "light"
     },
     "output_type": "display_data"
    }
   ],
   "source": [
    "f = plt.figure()\n",
    "\n",
    "f.set_figwidth(14)\n",
    "f.set_figheight(5)\n",
    "\n",
    "plt.subplot(1,2,1)\n",
    "plt.title(\"Un-normalised data\")\n",
    "plt.scatter(admitted[:,0], admitted[:,1] , label=\"Passed\")\n",
    "plt.scatter(not_admitted[:,0], not_admitted[:,1], label=\"Failed\")\n",
    "plt.xlabel(\"Microchip test 1\")\n",
    "plt.ylabel(\"Microchip test 2\")\n",
    "plt.legend()\n",
    "\n",
    "plt.subplot(1,2,2)\n",
    "plt.title(\"Normalised data\")\n",
    "plt.scatter(_admitted[:,0], _admitted[:,1], label=\"Passed\")\n",
    "plt.scatter(_not_admitted[:,0], _not_admitted[:,1], label=\"Failed\")\n",
    "plt.xlabel(\"Microchip test 1\")\n",
    "plt.ylabel(\"Microchip test 2\")\n",
    "plt.legend()"
   ]
  },
  {
   "cell_type": "markdown",
   "id": "ff8c852a",
   "metadata": {},
   "source": [
    "### Featur Mapping - Increasing the number of features to get a better fit of Decision Boundary"
   ]
  },
  {
   "cell_type": "code",
   "execution_count": 6,
   "id": "edf1a43a",
   "metadata": {},
   "outputs": [
    {
     "data": {
      "text/plain": [
       "(118, 1)"
      ]
     },
     "execution_count": 6,
     "metadata": {},
     "output_type": "execute_result"
    }
   ],
   "source": [
    "def mapFeature(X1, X2):\n",
    "    degree = 6\n",
    "    out = np.ones(X.shape[0])[:,np.newaxis]\n",
    "    for i in range(1, degree+1):\n",
    "        for j in range(i+1):\n",
    "            out = np.hstack((out, np.multiply(np.power(X1, i-j),                                     np.power(X2, j))[:,np.newaxis]))\n",
    "    return out\n",
    "\n",
    "X = mapFeature(X[:,1], X[:,2])\n",
    "theta = np.array(np.zeros((X.shape[1],1)))\n",
    "y.shape"
   ]
  },
  {
   "cell_type": "markdown",
   "id": "615d5d86",
   "metadata": {},
   "source": [
    "### The Hypothesis function"
   ]
  },
  {
   "cell_type": "code",
   "execution_count": 7,
   "id": "21b22c82",
   "metadata": {},
   "outputs": [],
   "source": [
    "def _h(theta, X):\n",
    "    z = np.dot(X,theta)\n",
    "    \n",
    "    return sigmoid(z)\n",
    "\n",
    "def sigmoid(z):\n",
    "    return 1/(1+np.exp(-z))"
   ]
  },
  {
   "cell_type": "markdown",
   "id": "9c5870e3",
   "metadata": {},
   "source": [
    "### Cost Function, gradient function & few utility functions"
   ]
  },
  {
   "cell_type": "code",
   "execution_count": 9,
   "id": "f600474c",
   "metadata": {},
   "outputs": [
    {
     "data": {
      "text/plain": [
       "(27, 1)"
      ]
     },
     "execution_count": 9,
     "metadata": {},
     "output_type": "execute_result"
    }
   ],
   "source": [
    "def cost_function(theta, X, y, lbd):\n",
    "    # Computes the cost function for all the training samples\n",
    "    \n",
    "    z = np.dot(X,theta)       # theta-> 3 x 1; X-> m x 3\n",
    "    h = 1/(1+np.exp(-z))      # h -> m x 1\n",
    "    \n",
    "    m = X.shape[0]\n",
    "    cost = np.multiply(-y,np.log(h))- np.multiply((1-y),np.log(1-h))\n",
    "    \n",
    "    tmp = theta\n",
    "    tmp[0] = 0\n",
    "    \n",
    "    reg = (lbd/(2*m)) * np.sum(np.power(tmp,2))\n",
    "    \n",
    "    J = (1/m)*np.sum(cost) + reg\n",
    "    \n",
    "    return J\n",
    "\n",
    "def gradient(theta, x, y, lbd):\n",
    "    # Computes the gradient of the cost function at the point theta\n",
    "    m = x.shape[0]\n",
    "    \n",
    "    tmp = theta\n",
    "    tmp[0] = 0\n",
    "    \n",
    "    reg = (lbd / m) * tmp\n",
    "    \n",
    "    return (1 / m) * np.dot(x.T, sigmoid(net_input(theta,   x)) - y) + reg\n",
    "\n",
    "def lrGradientDescent(theta, X, y, lambda_t):\n",
    "    m = len(y)\n",
    "    grad = np.zeros([m,1])\n",
    "    grad = (1/m) * X.T @ (sigmoid(X @ theta) - y)\n",
    "    grad[1:] = grad[1:] + (lambda_t / m) * theta[1:]\n",
    "    return grad\n",
    "\n",
    "def net_input(theta, x):\n",
    "    # Computes the weighted sum of inputs\n",
    "    return np.dot(x, theta)\n",
    "\n",
    "def probability(theta, x):\n",
    "    # Returns the probability after passing through sigmoid\n",
    "    return sigmoid(net_input(theta, x))"
   ]
  },
  {
   "cell_type": "markdown",
   "id": "17e933c4",
   "metadata": {},
   "source": [
    "### The Optimizer function\n",
    "* fmin_tnc is an optimization solver that finds the minimum of an unconstrained function.\n",
    "* For logistic regression, we want to optimize the cost function with the parameters theta.\n",
    "* This is a faster method as compared to gradeint descent which might fail or take huge amounts\n",
    "  of time for optimizing theta"
   ]
  },
  {
   "cell_type": "code",
   "execution_count": 15,
   "id": "380fe0a1",
   "metadata": {},
   "outputs": [
    {
     "name": "stdout",
     "output_type": "stream",
     "text": [
      "0.6931471805599454\n"
     ]
    }
   ],
   "source": [
    "'''\n",
    "Arguements : \n",
    "\n",
    "1. The initial values of the parameters we are trying to optimize.----> x0\n",
    "2. A function that, when given the training set and a particular\n",
    "theta,computes the logistic regression cost and gradient with\n",
    "respect to theta for the dataset (X, y).------------------------------> cost_function\n",
    "3. Gradient of cost function -----------------------------------------> gradient\n",
    "'''\n",
    "\n",
    "def fit(x, y, theta, lbd):\n",
    "    # Calls in-built optimization function to get optimal values for theta\n",
    "    opt_weights = opt.fmin_tnc(func = cost_function, x0=theta, fprime = lrGradientDescent, args=(x, y.flatten(), lbd))\n",
    "    \n",
    "    return opt_weights\n",
    "\n",
    "(m, n) = X.shape\n",
    "y\n",
    "theta = np.zeros((n,1))\n",
    "lmbda = 70\n",
    "J = cost_function(theta, X, y, lmbda)\n",
    "print(J)"
   ]
  },
  {
   "cell_type": "markdown",
   "id": "30b1824d",
   "metadata": {},
   "source": [
    "### Initialising theta and calling \"fit\" function to get optimal theta values"
   ]
  },
  {
   "cell_type": "code",
   "execution_count": 14,
   "id": "bf237196",
   "metadata": {
    "scrolled": true
   },
   "outputs": [],
   "source": [
    "theta = np.zeros((n,1))\n",
    "output = fit(X,y,theta, lmbda)\n",
    "#output = opt.fmin_tnc(func = cost_function, x0 = theta.flatten(), fprime = lrGradientDescent, \\\n",
    "#                         args = (X, y.flatten(), lmbda))\n",
    "theta = output[0]"
   ]
  },
  {
   "cell_type": "markdown",
   "id": "048f1c4b",
   "metadata": {},
   "source": [
    "***\n",
    "### Writing down hypothesis using our obtained optimal parameters\n",
    "***"
   ]
  },
  {
   "cell_type": "code",
   "execution_count": 12,
   "id": "8857126f",
   "metadata": {},
   "outputs": [],
   "source": [
    "u = np.linspace(-1, 1.5, 50)\n",
    "v = np.linspace(-1, 1.5, 50)\n",
    "z = np.zeros((len(u), len(v)))\n",
    "def mapFeatureForPlotting(X1, X2):\n",
    "    degree = 6\n",
    "    out = np.ones(1)\n",
    "    for i in range(1, degree+1):\n",
    "        for j in range(i+1):\n",
    "            out = np.hstack((out, np.multiply(np.power(X1, i-j), np.power(X2, j))))\n",
    "    return out\n",
    "for i in range(len(u)):\n",
    "    for j in range(len(v)):\n",
    "        z[i,j] = np.dot(mapFeatureForPlotting(u[i], v[j]), theta)\n",
    "        mask = y.flatten() == 1\n",
    "        \n",
    "X_t = X        \n",
    "X_t = data.iloc[:,:-1]"
   ]
  },
  {
   "cell_type": "markdown",
   "id": "1151de41",
   "metadata": {},
   "source": [
    "### Seeing our Decision Boundary"
   ]
  },
  {
   "cell_type": "code",
   "execution_count": 13,
   "id": "947c27fa",
   "metadata": {},
   "outputs": [
    {
     "data": {
      "image/png": "[encoded data removed]",
      "text/plain": [
       "<Figure size 576x504 with 1 Axes>"
      ]
     },
     "metadata": {
      "needs_background": "light"
     },
     "output_type": "display_data"
    }
   ],
   "source": [
    "f = plt.figure()\n",
    "\n",
    "f.set_figwidth(8)\n",
    "f.set_figheight(7)\n",
    "plt.title(\"Decision boundary\")\n",
    "\n",
    "passed = plt.scatter(X_t[mask][0], X_t[mask][1])\n",
    "failed = plt.scatter(X_t[~mask][0], X_t[~mask][1])\n",
    "plt.contour(u,v,z,0)\n",
    "plt.xlabel('Microchip Test1')\n",
    "plt.ylabel('Microchip Test2')\n",
    "plt.legend((passed, failed), ('Passed', 'Failed'))\n",
    "plt.show()"
   ]
  },
  {
   "cell_type": "markdown",
   "id": "8d369640",
   "metadata": {},
   "source": [
    "### Remarks - Got far better results in MATLAB"
   ]
  }
 ],
 "metadata": {
  "kernelspec": {
   "display_name": "Python 3",
   "language": "python",
   "name": "python3"
  },
  "language_info": {
   "codemirror_mode": {
    "name": "ipython",
    "version": 3
   },
   "file_extension": ".py",
   "mimetype": "text/x-python",
   "name": "python",
   "nbconvert_exporter": "python",
   "pygments_lexer": "ipython3",
   "version": "3.6.9"
  }
 },
 "nbformat": 4,
 "nbformat_minor": 5
}
