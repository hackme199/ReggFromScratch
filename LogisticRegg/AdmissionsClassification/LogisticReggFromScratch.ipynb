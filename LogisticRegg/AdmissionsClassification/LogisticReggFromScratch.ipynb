{
 "cells": [
  {
   "cell_type": "markdown",
   "id": "a44ecda0",
   "metadata": {},
   "source": [
    "# Logistic Reggression from scratch"
   ]
  },
  {
   "cell_type": "markdown",
   "id": "98927311",
   "metadata": {},
   "source": [
    "## Case Study - Admission grant by a university to students using two examination's marks"
   ]
  },
  {
   "cell_type": "markdown",
   "id": "a13ff3f1",
   "metadata": {},
   "source": [
    "###  Necessary imports"
   ]
  },
  {
   "cell_type": "code",
   "execution_count": 1,
   "id": "4719b96a",
   "metadata": {},
   "outputs": [],
   "source": [
    "import matplotlib.pyplot as plt\n",
    "import pandas as pd\n",
    "import numpy as np\n",
    "import scipy.optimize as opt"
   ]
  },
  {
   "cell_type": "markdown",
   "id": "686a66e9",
   "metadata": {},
   "source": [
    "### Load local data into the program"
   ]
  },
  {
   "cell_type": "code",
   "execution_count": 2,
   "id": "26a74d53",
   "metadata": {},
   "outputs": [],
   "source": [
    "def load_data(path):\n",
    "    data = pd.read_csv(path, header = None)\n",
    "    \n",
    "    return data\n",
    "\n",
    "data = load_data(\"marks.txt\")"
   ]
  },
  {
   "cell_type": "markdown",
   "id": "a2abd323",
   "metadata": {},
   "source": [
    "### Data Pre-processing"
   ]
  },
  {
   "cell_type": "code",
   "execution_count": 3,
   "id": "a8005b99",
   "metadata": {},
   "outputs": [
    {
     "data": {
      "text/plain": [
       "array([[1],\n",
       "       [1],\n",
       "       [0],\n",
       "       [1],\n",
       "       [1],\n",
       "       [1],\n",
       "       [1],\n",
       "       [1],\n",
       "       [1],\n",
       "       [1]])"
      ]
     },
     "execution_count": 3,
     "metadata": {},
     "output_type": "execute_result"
    }
   ],
   "source": [
    "X = data.iloc[0:90,0:2]\n",
    "\n",
    "m = X.shape[0]         # Training samples\n",
    "\n",
    "X_test = data.iloc[m:data.shape[0],0:2]\n",
    "X_test = np.c_[np.ones((data.shape[0]-m,1)), X_test]\n",
    "\n",
    "y = np.array(data.iloc[0:m,2]).reshape((m,1))\n",
    "y_test = np.array(data.iloc[m:data.shape[0],2]).reshape((data.shape[0]-m,1))\n",
    "\n",
    "X = np.c_[np.ones((m,1)), X]\n",
    "theta = np.array(np.zeros((X.shape[1],1)))\n",
    "\n",
    "admitted = data.iloc[0:m,:].loc[ y == 1 ]                        \n",
    "admitted = np.array(admitted.iloc[:, 0:2])\n",
    "\n",
    "not_admitted = data.iloc[0:m,:].loc[ y == 0 ]\n",
    "not_admitted = np.array(not_admitted.iloc[:, 0:2])\n",
    "y_test"
   ]
  },
  {
   "cell_type": "markdown",
   "id": "0d3b257f",
   "metadata": {},
   "source": [
    "### Feature Scaling - Normalization"
   ]
  },
  {
   "cell_type": "code",
   "execution_count": 4,
   "id": "840ac0a6",
   "metadata": {},
   "outputs": [],
   "source": [
    "_X = np.array(np.zeros((X.shape)))\n",
    "_admitted = np.array(np.zeros((admitted.shape)))\n",
    "_not_admitted = np.array(np.zeros((not_admitted.shape)))\n",
    "\n",
    "x1_avg = np.sum(X[:,1])/m\n",
    "x1_range = np.max(X[:,1]) - np.min(X[:,1])\n",
    "\n",
    "x2_avg = np.sum(X[:,2])/m\n",
    "x2_range = np.max(X[:,2]) - np.min(X[:,2])\n",
    "\n",
    "_X[:,1] = (X[:,1] - x1_avg)/x1_range\n",
    "_X[:,2] = (X[:,2] - x2_avg)/x2_range\n",
    "\n",
    "\n",
    "ad_x1_avg = np.sum(admitted[:,0])/m\n",
    "ad_x1_range = np.max(admitted[:,0]) - np.min(admitted[:,0])\n",
    "\n",
    "ad_x2_avg = np.sum(admitted[:,1])/m\n",
    "ad_x2_range = np.max(admitted[:,1]) - np.min(admitted[:,1])\n",
    "\n",
    "_admitted[:,0] = (admitted[:,0] - ad_x1_avg)/ad_x1_range\n",
    "_admitted[:,1] = (admitted[:,1]- ad_x2_avg)/ad_x2_range\n",
    "\n",
    "nad_x1_avg = np.sum(not_admitted[:,0])/m\n",
    "nad_x1_range = np.max(not_admitted[:,0]) - np.min(admitted[:,0])\n",
    "\n",
    "nad_x2_avg = np.sum(not_admitted[:,1])/m\n",
    "nad_x2_range = np.max(not_admitted[:,1]) - np.min(admitted[:,1])\n",
    "\n",
    "_not_admitted[:,0] = (not_admitted[:,0] - nad_x1_avg)/nad_x1_range\n",
    "_not_admitted[:,1] = (not_admitted[:,1]- nad_x2_avg)/nad_x2_range"
   ]
  },
  {
   "cell_type": "markdown",
   "id": "a59d6650",
   "metadata": {},
   "source": [
    "### Important Observation - Normalization mixes up samples\n",
    "### So we'll prefer using un-normalised data for more general sense for CLASSIFICATION "
   ]
  },
  {
   "cell_type": "code",
   "execution_count": 5,
   "id": "a6765c4c",
   "metadata": {},
   "outputs": [
    {
     "data": {
      "text/plain": [
       "<matplotlib.legend.Legend at 0x7f05e717c4e0>"
      ]
     },
     "execution_count": 5,
     "metadata": {},
     "output_type": "execute_result"
    },
    {
     "data": {
      "image/png": "[encoded data removed]",
      "text/plain": [
       "<Figure size 1080x360 with 2 Axes>"
      ]
     },
     "metadata": {
      "needs_background": "light"
     },
     "output_type": "display_data"
    }
   ],
   "source": [
    "f = plt.figure()\n",
    "\n",
    "f.set_figwidth(15)\n",
    "f.set_figheight(5)\n",
    "\n",
    "plt.subplot(1,2,1)\n",
    "plt.title(\"Un-normalised scores\")\n",
    "plt.scatter(admitted[:,0], admitted[:,1], s=5 , label=\"Admitted\")\n",
    "plt.scatter(not_admitted[:,0], not_admitted[:,1], s=5, label=\"Not Admitted\")\n",
    "plt.xlabel(\"Sub 1 marks\")\n",
    "plt.ylabel(\"Sub 2 marks\")\n",
    "plt.legend()\n",
    "\n",
    "plt.subplot(1,2,2)\n",
    "plt.title(\"Normalised scores\")\n",
    "plt.scatter(_admitted[:,0], _admitted[:,1], s=5, label=\"Admitted\")\n",
    "plt.scatter(_not_admitted[:,0], _not_admitted[:,1], s=5, label=\"Not Admitted\")\n",
    "plt.xlabel(\"Sub 1 marks\")\n",
    "plt.ylabel(\"Sub 2 marks\")\n",
    "plt.legend()"
   ]
  },
  {
   "cell_type": "markdown",
   "id": "615d5d86",
   "metadata": {},
   "source": [
    "### The Hypothesis function"
   ]
  },
  {
   "cell_type": "code",
   "execution_count": 6,
   "id": "21b22c82",
   "metadata": {},
   "outputs": [],
   "source": [
    "def _h(theta, X):\n",
    "    z = np.dot(X,theta)\n",
    "    \n",
    "    return sigmoid(z)\n",
    "\n",
    "def sigmoid(z):\n",
    "    return 1/(1+np.exp(-z))"
   ]
  },
  {
   "cell_type": "markdown",
   "id": "773585bd",
   "metadata": {},
   "source": [
    "### Gradient Descent "
   ]
  },
  {
   "cell_type": "code",
   "execution_count": 7,
   "id": "8b459c5a",
   "metadata": {},
   "outputs": [],
   "source": [
    "def gradDes(X, y, theta, alpha = 0.001):\n",
    "    m = X.shape[0]\n",
    "    \n",
    "    for _ in range(1000):\n",
    "        h = _h(theta, X)\n",
    "        \n",
    "        theta = theta - ((alpha/m)*np.sum((h - y)*X, axis = 0)).reshape(theta.shape[0],1)\n",
    "        \n",
    "    return theta"
   ]
  },
  {
   "cell_type": "markdown",
   "id": "9c5870e3",
   "metadata": {},
   "source": [
    "### Cost Function, gradient function & few utility functions"
   ]
  },
  {
   "cell_type": "code",
   "execution_count": 8,
   "id": "f600474c",
   "metadata": {},
   "outputs": [],
   "source": [
    "def cost_function(theta, X, y):\n",
    "    # Computes the cost function for all the training samples\n",
    "    \n",
    "    z = np.dot(X,theta)       # theta-> 3 x 1; X-> m x 3\n",
    "    h = 1/(1+np.exp(-z))      # h -> m x 1\n",
    "    \n",
    "    m = X.shape[0]\n",
    "    cost = np.multiply(-y,np.log(h))- np.multiply((1-y),np.log(1-h))\n",
    "    \n",
    "    J = (1/m)*np.sum(cost)\n",
    "    \n",
    "    return J\n",
    "\n",
    "def gradient(theta, x, y):\n",
    "    # Computes the gradient of the cost function at the point theta\n",
    "    m = x.shape[0]\n",
    "    return (1 / m) * np.dot(x.T, sigmoid(net_input(theta,   x)) - y)\n",
    "\n",
    "def net_input(theta, x):\n",
    "    # Computes the weighted sum of inputs\n",
    "    return np.dot(x, theta)\n",
    "\n",
    "def probability(theta, x):\n",
    "    # Returns the probability after passing through sigmoid\n",
    "    return sigmoid(net_input(theta, x))"
   ]
  },
  {
   "cell_type": "markdown",
   "id": "17e933c4",
   "metadata": {},
   "source": [
    "### The Optimizer function\n",
    "* fmin_tnc is an optimization solver that finds the minimum of an unconstrained function.\n",
    "* For logistic regression, we want to optimize the cost function with the parameters theta.\n",
    "* This is a faster method as compared to gradeint descent which might fail or take huge amounts\n",
    "  of time for optimizing theta"
   ]
  },
  {
   "cell_type": "code",
   "execution_count": 9,
   "id": "380fe0a1",
   "metadata": {},
   "outputs": [],
   "source": [
    "'''\n",
    "Arguements : \n",
    "\n",
    "1. The initial values of the parameters we are trying to optimize.----> x0\n",
    "2. A function that, when given the training set and a particular\n",
    "theta,computes the logistic regression cost and gradient with\n",
    "respect to theta for the dataset (X, y).------------------------------> cost_function\n",
    "3. Gradient of cost function -----------------------------------------> gradient\n",
    "'''\n",
    "\n",
    "def fit(x, y, theta):\n",
    "    # Calls in-built optimization function to get optimal values for theta\n",
    "    opt_weights = opt.fmin_tnc(func = cost_function, x0=theta, fprime = gradient, args=(x, y.flatten()))\n",
    "    \n",
    "    return opt_weights[0]"
   ]
  },
  {
   "cell_type": "markdown",
   "id": "30b1824d",
   "metadata": {},
   "source": [
    "### Initialising theta and calling \"fit\" function to get optimal theta values"
   ]
  },
  {
   "cell_type": "code",
   "execution_count": 10,
   "id": "bf237196",
   "metadata": {},
   "outputs": [
    {
     "data": {
      "text/plain": [
       "array([-25.07542357,   0.20585712,   0.19714728])"
      ]
     },
     "execution_count": 10,
     "metadata": {},
     "output_type": "execute_result"
    }
   ],
   "source": [
    "theta = np.array(np.zeros((X.shape[1],1)))\n",
    "#params = gradDes(X,y,theta)\n",
    "params = fit(X, y, theta)\n",
    "\n",
    "params"
   ]
  },
  {
   "cell_type": "markdown",
   "id": "048f1c4b",
   "metadata": {},
   "source": [
    "***\n",
    "### Writing down hypothesis using our obtained optimal parameters\n",
    "* h(X) =   theta.X\n",
    "* To see the decision boundary we equate h(X) to 0 to make the eqn 2-D\n",
    "* We then take subject 1 marks as x_val [as it was in the previousdata plot]\n",
    "  and calculate subject 2 marks using our hypothesis:\n",
    "  \n",
    "  x2 = -(params[1]*x1 +params[0])/params[2]\n",
    "  \n",
    "* For the plot y_val = x2, x_val = x1"
   ]
  },
  {
   "cell_type": "code",
   "execution_count": 11,
   "id": "8857126f",
   "metadata": {},
   "outputs": [],
   "source": [
    "x_val = X[:,1]\n",
    "\n",
    "#y_val = -(params[1][0]*x_val +params[0][0])/params[2][0]\n",
    "y_val = -(params[1]*x_val +params[0])/params[2]"
   ]
  },
  {
   "cell_type": "markdown",
   "id": "1151de41",
   "metadata": {},
   "source": [
    "### Seeing our Decision Boundary"
   ]
  },
  {
   "cell_type": "code",
   "execution_count": 12,
   "id": "947c27fa",
   "metadata": {},
   "outputs": [
    {
     "data": {
      "text/plain": [
       "<matplotlib.legend.Legend at 0x7f05e70a8b70>"
      ]
     },
     "execution_count": 12,
     "metadata": {},
     "output_type": "execute_result"
    },
    {
     "data": {
      "image/png": "[encoded data removed]",
      "text/plain": [
       "<Figure size 576x504 with 1 Axes>"
      ]
     },
     "metadata": {
      "needs_background": "light"
     },
     "output_type": "display_data"
    }
   ],
   "source": [
    "f = plt.figure()\n",
    "\n",
    "f.set_figwidth(8)\n",
    "f.set_figheight(7)\n",
    "plt.title(\"Decision boundary\")\n",
    "plt.scatter(admitted[:,0], admitted[:,1], label = \"Admitted\")\n",
    "plt.scatter(not_admitted[:,0], not_admitted[:,1],  label=\"Not Admitted\")\n",
    "plt.xlabel(\"Sub 1 marks\")\n",
    "plt.ylabel(\"Sub 2 marks\")\n",
    "plt.plot(x_val,y_val, \"-\")\n",
    "plt.legend()"
   ]
  },
  {
   "cell_type": "markdown",
   "id": "8c118602",
   "metadata": {},
   "source": [
    "### Testing our model"
   ]
  },
  {
   "cell_type": "code",
   "execution_count": 13,
   "id": "2fb25e19",
   "metadata": {},
   "outputs": [
    {
     "name": "stdout",
     "output_type": "stream",
     "text": [
      "Sucess rate :  90.0 %\n"
     ]
    }
   ],
   "source": [
    "y_res = probability(params, X_test)\n",
    "\n",
    "for i in range(len(y_res)):\n",
    "    if y_res[i] >= 0.5:\n",
    "        y_res[i] = 1\n",
    "    else:\n",
    "        y_res[i] = 0\n",
    "\n",
    "y_res = y_res.reshape((len(y_res),1))\n",
    "\n",
    "successful = 0\n",
    "for i in range(len(y_res)):\n",
    "    if y_res[i] == y_test[i]:\n",
    "        successful = successful+1\n",
    "    else:\n",
    "        continue\n",
    "\n",
    "print(\"Sucess rate : \", (successful/len(y_test))*100, \"%\")"
   ]
  }
 ],
 "metadata": {
  "kernelspec": {
   "display_name": "Python 3",
   "language": "python",
   "name": "python3"
  },
  "language_info": {
   "codemirror_mode": {
    "name": "ipython",
    "version": 3
   },
   "file_extension": ".py",
   "mimetype": "text/x-python",
   "name": "python",
   "nbconvert_exporter": "python",
   "pygments_lexer": "ipython3",
   "version": "3.6.9"
  }
 },
 "nbformat": 4,
 "nbformat_minor": 5
}
