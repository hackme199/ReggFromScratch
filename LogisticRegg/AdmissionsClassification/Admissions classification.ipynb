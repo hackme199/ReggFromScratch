{
 "cells": [
  {
   "cell_type": "markdown",
   "id": "81f5dd38",
   "metadata": {},
   "source": [
    "# Logistic Reggression from scratch"
   ]
  },
  {
   "cell_type": "markdown",
   "id": "97c4d987",
   "metadata": {},
   "source": [
    "## Case Study - Admission grant to students using two examination's marks"
   ]
  },
  {
   "cell_type": "markdown",
   "id": "35ee89a0",
   "metadata": {},
   "source": [
    "###  Necessary imports"
   ]
  },
  {
   "cell_type": "code",
   "execution_count": 1,
   "id": "12096395",
   "metadata": {},
   "outputs": [],
   "source": [
    "import numpy as np\n",
    "import matplotlib.pyplot as plt\n",
    "import pandas as pd\n",
    "import scipy.optimize as opt"
   ]
  },
  {
   "cell_type": "markdown",
   "id": "f0f6d29a",
   "metadata": {},
   "source": [
    "### Load local data into the program"
   ]
  },
  {
   "cell_type": "code",
   "execution_count": 12,
   "id": "a987dd79",
   "metadata": {},
   "outputs": [],
   "source": [
    "def load_data(path, header):\n",
    "    marks_df = pd.read_csv(path, header=header)\n",
    "    return marks_df\n",
    "\n",
    "# loading...\n",
    "data = load_data(\"marks.txt\", None)"
   ]
  },
  {
   "cell_type": "markdown",
   "id": "de16060e",
   "metadata": {},
   "source": [
    "### Data Pre-processing"
   ]
  },
  {
   "cell_type": "code",
   "execution_count": 14,
   "id": "fc37e1c9",
   "metadata": {},
   "outputs": [
    {
     "data": {
      "image/png": "[encoded data removed]",
      "text/plain": [
       "<Figure size 432x288 with 1 Axes>"
      ]
     },
     "metadata": {
      "needs_background": "light"
     },
     "output_type": "display_data"
    }
   ],
   "source": [
    "X = data.iloc[:,0:2]\n",
    "y = data.iloc[:, 2]\n",
    "\n",
    "admitted = data.loc[y==1]\n",
    "not_admitted = data.loc[y==0]\n",
    "\n",
    "plt.scatter(admitted.iloc[:,0], admitted.iloc[:,1], s=5, label=\"Admitted\")\n",
    "plt.scatter(not_admitted.iloc[:,0], not_admitted.iloc[:,1], s=5, label=\"Not Admitted\")\n",
    "plt.legend()\n",
    "plt.show()"
   ]
  },
  {
   "cell_type": "code",
   "execution_count": 5,
   "id": "b102a9da",
   "metadata": {},
   "outputs": [
    {
     "data": {
      "text/plain": [
       "(100, 3)"
      ]
     },
     "execution_count": 5,
     "metadata": {},
     "output_type": "execute_result"
    }
   ],
   "source": [
    "m = X.shape[0]\n",
    "\n",
    "X = np.c_[np.ones((m,1)), X]\n",
    "\n",
    "#y = y[:, np.newaxis]     #transpose\n",
    "y = np.array(y).reshape((m,1))\n",
    "#y = np.transpose(y)\n",
    "\n",
    "theta = np.zeros((X.shape[1], 1))\n",
    "X.shape"
   ]
  },
  {
   "cell_type": "code",
   "execution_count": 6,
   "id": "7c6197c6",
   "metadata": {},
   "outputs": [],
   "source": [
    "def sigmoid(x):\n",
    "    # Activation function used to map any real value between 0 and 1\n",
    "    t = np.array(1 / (1 + np.exp(-x)),dtype = np.float128)\n",
    "    return t\n",
    "\n",
    "def net_input(theta, x):\n",
    "    # Computes the weighted sum of inputs\n",
    "    return np.dot(x, theta)\n",
    "\n",
    "def probability(theta, x):\n",
    "    # Returns the probability after passing through sigmoid\n",
    "    return sigmoid(net_input(theta, x))"
   ]
  },
  {
   "cell_type": "code",
   "execution_count": 7,
   "id": "9ac32733",
   "metadata": {},
   "outputs": [],
   "source": [
    "def _h(theta, X):\n",
    "    #print(theta.shape)\n",
    "    z = np.dot(X,theta)       # theta-> 3 x 1; X-> m x 3\n",
    "    h = sigmoid(z)            # h -> m x 1\n",
    "    \n",
    "    return h\n",
    "\n",
    "def cost_function(theta, X, y):\n",
    "    # Computes the cost function for all the training samples\n",
    "    \n",
    "    z = np.dot(X,theta)       # theta-> 3 x 1; X-> m x 3\n",
    "    h = 1/(1+np.exp(-z))      # h -> m x 1\n",
    "    \n",
    "    m = X.shape[0]\n",
    "    cost = np.multiply(-y,np.log(h))- np.multiply((1-y),np.log(1-h))\n",
    "    \n",
    "    J = (1/m)*np.sum(cost)\n",
    "    \n",
    "    return J\n",
    "    \n",
    "    #m = x.shape[0]\n",
    "#     total_cost = -(1 / m) * np.sum(\n",
    "#         y * np.log(probability(theta, x)) + (1 - y) * np.log(\n",
    "#             1 - probability(theta, x)))\n",
    "#     return total_cost\n",
    "\n",
    "def gradient(theta, x, y):\n",
    "    # Computes the gradient of the cost function at the point theta\n",
    "    m = x.shape[0]\n",
    "    return (1 / m) * np.dot(x.T, sigmoid(net_input(theta,   x)) - y)"
   ]
  },
  {
   "cell_type": "code",
   "execution_count": 8,
   "id": "b23ebbd6",
   "metadata": {},
   "outputs": [],
   "source": [
    "def gradient_descent(theta, X, y, alpha):\n",
    "    m = X.shape[0]\n",
    "    \n",
    "    for i in range(900):\n",
    "        h = _h(theta, X)     #update hypothesis every time when theta changes\n",
    "        #print(theta.shape)\n",
    "        theta = theta - (alpha/m)*(np.sum(((h-y) * X), axis = 0).reshape(theta.shape[0], 1))\n",
    "        \n",
    "    return theta"
   ]
  },
  {
   "cell_type": "code",
   "execution_count": 9,
   "id": "4ca0b5f6",
   "metadata": {},
   "outputs": [
    {
     "data": {
      "text/plain": [
       "(100, 1)"
      ]
     },
     "execution_count": 9,
     "metadata": {},
     "output_type": "execute_result"
    }
   ],
   "source": [
    "def fit(x, y, theta):\n",
    "    opt_weights = opt.fmin_tnc(func=cost_function, x0=theta,fprime=gradient, args=(x, y.flatten()))\n",
    "    \n",
    "    return opt_weights[0]\n",
    "y.shape"
   ]
  },
  {
   "cell_type": "code",
   "execution_count": 10,
   "id": "0dab243a",
   "metadata": {},
   "outputs": [
    {
     "data": {
      "text/plain": [
       "array([[-34.94820331],\n",
       "       [ 29.05076553],\n",
       "       [  4.76223581]], dtype=float128)"
      ]
     },
     "execution_count": 10,
     "metadata": {},
     "output_type": "execute_result"
    }
   ],
   "source": [
    "theta = np.zeros((X.shape[1], 1))\n",
    "parameters=gradient_descent(theta, X,y, 0.5084)\n",
    "#parameters = fit(X, y, theta)\n",
    "parameters\n"
   ]
  },
  {
   "cell_type": "code",
   "execution_count": 11,
   "id": "8bea1395",
   "metadata": {},
   "outputs": [
    {
     "data": {
      "image/png": "[encoded data removed]",
      "text/plain": [
       "<Figure size 432x288 with 1 Axes>"
      ]
     },
     "metadata": {
      "needs_background": "light"
     },
     "output_type": "display_data"
    }
   ],
   "source": [
    "h = _h(parameters, X)\n",
    "\n",
    "x_values = [np.min(X[:, 1] - 5), np.max(X[:, 2] + 5)]\n",
    "#y_values = - (parameters[0] + np.dot(parameters[1], x_values)) / parameters[2]\n",
    "y_values = - (parameters[0][0] + np.dot(parameters[1][0], x_values)) / parameters[2][0]\n",
    "\n",
    "\n",
    "plt.scatter(admitted.iloc[:,0], admitted.iloc[:,1], s=5, label=\"Admitted\")\n",
    "plt.scatter(not_admitted.iloc[:,0], not_admitted.iloc[:,1], s=5, label=\"Not Admitted\")\n",
    "plt.legend()\n",
    "\n",
    "plt.plot(x_values, y_values, label='Decision Boundary')\n",
    "plt.xlabel('Marks in 1st Exam')\n",
    "plt.ylabel('Marks in 2nd Exam')\n",
    "plt.legend()\n",
    "plt.show()"
   ]
  },
  {
   "cell_type": "code",
   "execution_count": null,
   "id": "40dc72b4",
   "metadata": {},
   "outputs": [],
   "source": []
  }
 ],
 "metadata": {
  "kernelspec": {
   "display_name": "Python 3",
   "language": "python",
   "name": "python3"
  },
  "language_info": {
   "codemirror_mode": {
    "name": "ipython",
    "version": 3
   },
   "file_extension": ".py",
   "mimetype": "text/x-python",
   "name": "python",
   "nbconvert_exporter": "python",
   "pygments_lexer": "ipython3",
   "version": "3.6.9"
  }
 },
 "nbformat": 4,
 "nbformat_minor": 5
}
